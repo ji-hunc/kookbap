{
 "cells": [
  {
   "cell_type": "code",
   "execution_count": 8,
   "metadata": {},
   "outputs": [
    {
     "data": {
      "image/png": "[encoded data removed]",
      "text/plain": [
       "<Figure size 432x288 with 1 Axes>"
      ]
     },
     "metadata": {
      "needs_background": "light"
     },
     "output_type": "display_data"
    },
    {
     "name": "stdout",
     "output_type": "stream",
     "text": [
      "[[21018, 24826, 21863, 24827, 24828, 24829, 24830, 24831, 24832, 24833, 21133, 22789, 21316, 20340, 21386, 20283], [21018, 24826, 21863, 24827, 24828, 24829, 24830, 24831, 24832, 24833, 21133, 22789, 21316, 20340, 21386, 20283], [21018, 24826, 21863, 24827, 24828, 24829, 24830, 24831, 24832, 24833, 21133, 22789, 21316, 20340, 21386, 20283], [21018, 24826, 21863, 24827, 24828, 24829, 24830, 24831, 24832, 24833, 21133, 22789, 21316, 20340, 21386, 20283], [21018, 24826, 21863, 24827, 24828, 24829, 24830, 24831, 24832, 24833, 21133, 22789, 21316, 20340, 21386, 20283], [21018, 24826, 21863, 24827, 24828, 24829, 24830, 24831, 24832, 24833, 21133, 22789, 21316, 20340, 21386, 20283], [21018, 24826, 21863, 24827, 24828, 24829, 24830, 24831, 24832, 24833, 21133, 22789, 21316, 20340, 21386, 20283], [21018, 24826, 21863, 24827, 24828, 24829, 24830, 24831, 24832, 24833, 21133, 22789, 21316, 20340, 21386, 20283], [21018, 24826, 21863, 24827, 24828, 24829, 24830, 24831, 24832, 24833, 21133, 22789, 21316, 20340, 21386, 20283], [21018, 24826, 21863, 24827, 24828, 24829, 24830, 24831, 24832, 24833, 21133, 22789, 21316, 20340, 21386, 20283], [21018, 24826, 21863, 24827, 24828, 24829, 24830, 24831, 24832, 24833, 21133, 22789, 21316, 20340, 21386, 20283], [21018, 24826, 21863, 24827, 24828, 24829, 24830, 24831, 24832, 24833, 21133, 22789, 21316, 20340, 21386, 20283], [21018, 24826, 21863, 24827, 24828, 24829, 24830, 24831, 24832, 24833, 21133, 22789, 21316, 20340, 21386, 20283], [21018, 24826, 21863, 24827, 24828, 24829, 24830, 24831, 24832, 24833, 21133, 22789, 21316, 20340, 21386, 20283], [21018, 24826, 21863, 24827, 24828, 24829, 24830, 24831, 24832, 24833, 21133, 22789, 21316, 20340, 21386, 20283], [21018, 24826, 21863, 24827, 24828, 24829, 24830, 24831, 24832, 24833, 21133, 22789, 21316, 20340, 21386, 20283], [21018, 24826, 21863, 24827, 24828, 24829, 24830, 24831, 24832, 24833, 21133, 22789, 21316, 20340, 21386, 20283], [21018, 24826, 21863, 24827, 24828, 24829, 24830, 24831, 24832, 24833, 21133, 22789, 21316, 20340, 21386, 20283], [21018, 24826, 21863, 24827, 24828, 24829, 24830, 24831, 24832, 24833, 21133, 22789, 21316, 20340, 21386, 20283], [21018, 24826, 21863, 24827, 24828, 24829, 24830, 24831, 24832, 24833, 21133, 22789, 21316, 20340, 21386, 20283], [21018, 24826, 21863, 24827, 24828, 24829, 24830, 24831, 24832, 24833, 21133, 22789, 21316, 20340, 21386, 20283], [21018, 24826, 21863, 24827, 24828, 24829, 24830, 24831, 24832, 24833, 21133, 22789, 21316, 20340, 21386, 20283], [21018, 24826, 21863, 24827, 24828, 24829, 24830, 24831, 24832, 24833, 21133, 22789, 21316, 20340, 21386, 20283], [21018, 24826, 21863, 24827, 24828, 24829, 24830, 24831, 24832, 24833, 21133, 22789, 21316, 20340, 21386, 20283], [21018, 24826, 21863, 24827, 24828, 24829, 24830, 24831, 24832, 24833, 21133, 22789, 21316, 20340, 21386, 20283], [21018, 24826, 21863, 24827, 24828, 24829, 24830, 24831, 24832, 24833, 21133, 22789, 21316, 20340, 21386, 20283], [21018, 24826, 21863, 24827, 24828, 24829, 24830, 24831, 24832, 24833, 21133, 22789, 21316, 20340, 21386, 20283], [21018, 24826, 21863, 24827, 24828, 24829, 24830, 24831, 24832, 24833, 21133, 22789, 21316, 20340, 21386, 20283], [21018, 24826, 21863, 24827, 24828, 24829, 24830, 24831, 24832, 24833, 21133, 22789, 21316, 20340, 21386, 20283], [21018, 24826, 21863, 24827, 24828, 24829, 24830, 24831, 24832, 24833, 21133, 22789, 21316, 20340, 21386, 20283], [21018, 24826, 21863, 24827, 24828, 24829, 24830, 24831, 24832, 24833, 21133, 22789, 21316, 20340, 21386, 20283], [21018, 24826, 21863, 24827, 24828, 24829, 24830, 24831, 24832, 24833, 21133, 22789, 21316, 20340, 21386, 20283], [21018, 24826, 21863, 24827, 24828, 24829, 24830, 24831, 24832, 24833, 21133, 22789, 21316, 20340, 21386, 20283], [21018, 24826, 21863, 24827, 24828, 24829, 24830, 24831, 24832, 24833, 21133, 22789, 21316, 20340, 21386, 20283], [21018, 24826, 21863, 24827, 24828, 24829, 24830, 24831, 24832, 24833, 21133, 22789, 21316, 20340, 21386, 20283], [21018, 24826, 21863, 24827, 24828, 24829, 24830, 24831, 24832, 24833, 21133, 22789, 21316, 20340, 21386, 20283], [21018, 24826, 21863, 24827, 24828, 24829, 24830, 24831, 24832, 24833, 21133, 22789, 21316, 20340, 21386, 20283], [21018, 24826, 21863, 24827, 24828, 24829, 24830, 24831, 24832, 24833, 21133, 22789, 21316, 20340, 21386, 20283], [21018, 24826, 21863, 24827, 24828, 24829, 24830, 24831, 24832, 24833, 21133, 22789, 21316, 20340, 21386, 20283], [21018, 24826, 21863, 24827, 24828, 24829, 24830, 24831, 24832, 24833, 21133, 22789, 21316, 20340, 21386, 20283], [21018, 24826, 21863, 24827, 24828, 24829, 24830, 24831, 24832, 24833, 21133, 22789, 21316, 20340, 21386, 20283], [21018, 24826, 21863, 24827, 24828, 24829, 24830, 24831, 24832, 24833, 21133, 22789, 21316, 20340, 21386, 20283], [21018, 24826, 21863, 24827, 24828, 24829, 24830, 24831, 24832, 24833, 21133, 22789, 21316, 20340, 21386, 20283], [21018, 24826, 21863, 24827, 24828, 24829, 24830, 24831, 24832, 24833, 21133, 22789, 21316, 20340, 21386, 20283], [21018, 24826, 21863, 24827, 24828, 24829, 24830, 24831, 24832, 24833, 21133, 22789, 21316, 20340, 21386, 20283], [21018, 24826, 21863, 24827, 24828, 24829, 24830, 24831, 24832, 24833, 21133, 22789, 21316, 20340, 21386, 20283], [21018, 24826, 21863, 24827, 24828, 24829, 24830, 24831, 24832, 24833, 21133, 22789, 21316, 20340, 21386, 20283], [21018, 24826, 21863, 24827, 24828, 24829, 24830, 24831, 24832, 24833, 21133, 22789, 21316, 20340, 21386, 20283], [21018, 24826, 21863, 24827, 24828, 24829, 24830, 24831, 24832, 24833, 21133, 22789, 21316, 20340, 21386, 20283], [21018, 24826, 21863, 24827, 24828, 24829, 24830, 24831, 24832, 24833, 21133, 22789, 21316, 20340, 21386, 20283]]\n"
     ]
    }
   ],
   "source": [
    "import pandas as pd # 2차원적 자료구조로 dataframe형식으로 데이터를 관리할 수 있다\n",
    "import torch # 딥러닝 도구로서 2차원 이상의 array로 데이터를 관리할 수 있다\n",
    "import torch.nn.functional as F # torch에서 제공하는 모듈로 기울기를 쉽게 계산할 수 있다\n",
    "import pymysql # python에서 SQL명령어를 실행하여 MySQL에 있는 데이터를 받아올 수 있다\n",
    "from datetime import datetime\n",
    "import matplotlib.pyplot as plt \n",
    "# Kookbob에서 사용중인 서버 goorm ide는 디스플레이가 없는 환경이여서 matplotlib 모듈을 사용한 결과물을 확인할 수 없다. 이로 인해 서버에서는 확인이 불가능하다\n",
    "# 로컬 파일에서는 matplotlib를 통해 MSE값과 가설을 시각화하여 확인할 수 있다\n",
    "\n",
    "\n",
    "\n",
    "con = pymysql.connect(\n",
    "    host='13.209.185.52',\n",
    "    port=57409,\n",
    "    user= 'root',\n",
    "    password='1234',\n",
    "    db='Kookbob',\n",
    "    charset='utf8') # mysql connection 연결\n",
    "cur = con.cursor() # connection으로부터 cursor 생성\n",
    "\n",
    "reviewSQL = \"SELECT user.user_num, review.review_user_id, review.review_menu_id_reviewd, review.menu_name, review.star, review.review_like FROM review INNER JOIN user ON review.review_user_id = user.nickname\" \n",
    "cur.execute(reviewSQL) # SQL문 실행\n",
    "rows = cur.fetchall() #SQL 실행 결과값 저장\n",
    "data = pd.DataFrame(rows) #SQL 실행 결과값 DataFrame화\n",
    "testData = pd.DataFrame(rows) # testData는 머신러닝이 특정 값에 꽂혀 학습이 불안정해지는 것을 확인하기 위해 필요하다\n",
    "\n",
    "menus = torch.LongTensor(data[2]) # 리뷰 데이터의 menuId를 받아와 저장\n",
    "users = torch.LongTensor(data[0]) # 리뷰 데이터의 userNum을 받아와 저장\n",
    "ratings = torch.FloatTensor(data[4]) # 리뷰 데이터의 별점 값을 받아와 저장\n",
    "menusTest = torch.LongTensor(testData[2])\n",
    "usersTest = torch.LongTensor(testData[0])\n",
    "ratingsTest = torch.FloatTensor(testData[4])\n",
    "\n",
    "\n",
    "rank = 3 # Latent Vector의 개수. 개수를 늘릴수록 정확도는 높아지나 처리 시간이 길어진다\n",
    "\n",
    "numMenusSql = \"SELECT max(menu_Id) FROM menu;\" # menu 테이블에서 menuId가 가장 큰 값을 받아옴.(메뉴 개수를 구하기 위함)\n",
    "cur.execute(numMenusSql)\n",
    "numMenuData = cur.fetchall()\n",
    "numMenuDataFrame = pd.DataFrame(numMenuData)\n",
    "numMenus = numMenuDataFrame[0].item()+1 # index 문제를 해결하기 위해 +1을 해줌. 0번 인덱스값은 더미 데이터이다.\n",
    "\n",
    "# numUsersSql = \"SELECT max(user_num) FROM user;\" # user 테이블에서 userId가 가장 큰 값을 받아옴.(유저 명수를 구하기 위함)\n",
    "# cur.execute(numUsersSql)\n",
    "# numUserData = cur.fetchall()\n",
    "# numUserDataFrame = pd.DataFrame(numUserData)\n",
    "numUsers = 50 # 50명까지는 처리 가능. 0번 인덱스값은 더미 데이터이다\n",
    "\n",
    "mean = ratings.mean() # 평균 별점값\n",
    "\n",
    "lambda1 = 1\n",
    "lambda2 = 1\n",
    "lambda3 = 0.5\n",
    "lambda4 = 0.5 # 원래는 lambda값 역시 여러 가지 경우의 수를 대입하여 가장 정확한 최적의 lambda값을 구해야 하나, 서버 성능의 한계 때문에 처리 시간이 너무 오래 걸려 제거함(더 좋은 서버 구축 시 사용 가능할 듯)\n",
    "\n",
    "\n",
    "P = torch.randn(numMenus, rank, requires_grad=True) # menu Latent Factor 설정\n",
    "Q = torch.randn(numUsers, rank, requires_grad=True) # user Latent Factor 설정\n",
    "biasMenu = torch.randn(numMenus, requires_grad=True) # 정규화를 위한 menu Vector\n",
    "biasUser = torch.randn(numUsers, requires_grad = True) # 정규화를 위한 user Vecotor \n",
    "optim = torch.optim.Adam([P, Q, biasMenu, biasUser], lr = 0.1) # optim.Adam()을 사용하여 머신러닝 구현\n",
    "\n",
    "for epoch in range(500): # rank와 마찬가지로 시행횟수가 많을수록 정확하나 처리 시간이 길어짐\n",
    "    h = (P[menus] *Q[users]).sum(dim=1) + mean + biasMenu[menus] + biasUser[users] # 가설\n",
    "    cost = F.mse_loss(h, ratings) # 비용(MSE)\n",
    "    loss = cost + lambda1*(P**2).mean() + lambda2*(Q**2).mean() + lambda3*(biasUser**2).mean() + lambda4*(biasMenu**2).mean() # 정규화\n",
    "\n",
    "    optim.zero_grad()\n",
    "    loss.backward()\n",
    "    optim.step() # 모델 업데이트\n",
    "\n",
    "    with torch.no_grad():\n",
    "        h_test = (P[menusTest] * Q[usersTest]).sum(dim=1) + mean + biasMenu[menusTest] + biasUser[usersTest]\n",
    "        cost_test = F.mse_loss(h_test, ratingsTest)\n",
    "\n",
    "    # with torch.no_grad():\n",
    "      # if epoch % 100 == 0:\n",
    "        # print(f\"epoch: {epoch}, cost: {cost.item()}, cost_test: {cost_test.item()}\\n h:{h}\") # 비용(MSE)과 가설의 학습 과정 확인 가능, 이 파일의 출력값이 recommendMenu.js로 넘어가기때문에 평소에는 꺼두어야 한다\n",
    "        \n",
    "plt.xlabel(\"Epoch\")\n",
    "plt.ylabel(\"MSE\")\n",
    "plt.plot(X, Y, c=\"blue\", label = \"Training MSE\")\n",
    "plt.plot(X, Y_test, c=\"red\", label = \"Test MSE\")\n",
    "plt.legend()\n",
    "# plt.savefig(\"Kookbap_MSE.pdf\", dpi=300) # 그래프 Kookbap_MSE.pdf로 저장\n",
    "plt.show()\n",
    "\n",
    "originalMatrix = torch.transpose(torch.mm(P, torch.transpose(Q,0,1)),0,1)+mean+biasMenu+biasUser.unsqueeze(1) # userId가 x인 사람의 menuId가 y인 메뉴의 예상 별점은 originalMatrix[x][y]와 같다\n",
    "\n",
    "\n",
    "today = str(datetime.today().year)+\"-\"+str(datetime.today().month)+\"-\"+str(datetime.today().day) # 오늘의 날짜\n",
    "todayMenuSQL = \"SELECT * FROM menu INNER JOIN menu_appearance ON menu_appearance.menu_id = menu.menu_id WHERE date = \\\"{0}\\\"\".format(today) # 오늘의 메뉴를 받아옴\n",
    "cur.execute(todayMenuSQL)\n",
    "menuRows = cur.fetchall()\n",
    "todayMenus = pd.DataFrame(menuRows)\n",
    "todayMenusId = todayMenus[0] # 오늘의 메뉴 데이터에서 menuId를 받아옴\n",
    "\n",
    "recommendIndicesArr = []\n",
    "recommendAll = []\n",
    "\n",
    "for i in range(numUsers):\n",
    "    restaurantFilterArr = []\n",
    "    recommendValues, recommendIndices = torch.sort(originalMatrix[i][todayMenusId], descending=True) # userId가 i인 유저의 todayMenus에 대한 예상 별점들을 내림차순으로 sort하여 정렬한 todayMenusId를 recommendIndices에 저장 \n",
    "    recommendIndicesArr.append(recommendIndices.tolist())\n",
    "    for j in range(len(recommendIndicesArr[i])):\n",
    "        if (todayMenus[1][recommendIndicesArr[i][j]]) == \"학생식당\" or (todayMenus[1][recommendIndicesArr[i][j]]) == \"한울식당\" or (todayMenus[1][recommendIndicesArr[i][j]]) == \"교직원식당\": \n",
    "            restaurantFilterArr.append(todayMenus[0][recommendIndicesArr[i][j]]) # 추천 메뉴에 청향, K-BOB+ 등의 메뉴가 들어가는 것은 맞지 않는 것 같아 학생식당, 한울식당, 교직원식당의 메뉴만 추가\n",
    "        else:\n",
    "            continue\n",
    "    recommendAll.append(restaurantFilterArr) # recommendAll은 모든 유저의 오늘의 추천 메뉴를 각각 2차원 배열로 저장한 값이다\n",
    "\n",
    "print(recommendAll) # recommendAll을 출력하여 recommendMenu.js에서 사용할 수 있게 함\n",
    "\n"
   ]
  }
 ],
 "metadata": {
  "kernelspec": {
   "display_name": "Python 3.9.12 ('base')",
   "language": "python",
   "name": "python3"
  },
  "language_info": {
   "codemirror_mode": {
    "name": "ipython",
    "version": 3
   },
   "file_extension": ".py",
   "mimetype": "text/x-python",
   "name": "python",
   "nbconvert_exporter": "python",
   "pygments_lexer": "ipython3",
   "version": "3.9.12"
  },
  "orig_nbformat": 4,
  "vscode": {
   "interpreter": {
    "hash": "a9b33701161aa344749724b060d75b05bdd9f55dde0b12b625fe683d97d26887"
   }
  }
 },
 "nbformat": 4,
 "nbformat_minor": 2
}
