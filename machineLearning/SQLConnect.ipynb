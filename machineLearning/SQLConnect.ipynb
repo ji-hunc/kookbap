{
 "cells": [
  {
   "cell_type": "code",
   "execution_count": 1,
   "metadata": {},
   "outputs": [],
   "source": [
    "# %pip install PyMySQL\n",
    "# %pip install pandas\n",
    "# %pip install cryptography\n",
    "# %pip install torch torchvision torchaudio\n",
    "\n",
    "# 터미널에서 mysql에 사용자 추가하는 법\n",
    "# mysql> CREATE user '사용자'@'localhost' IDENTIFIED BY '사용자_비밀번호';\n",
    "# mysql> GRANT ALL PRIVILEGES ON *.* to '사용자'@'localhost'; # 모든 DB에 접근 가능 *.*\n",
    "# mysql> FLUSH PRIVILEGES; # 새로운 세팅 적용\n",
    "# 참고:http://bigdata.dongguk.ac.kr/lectures/DB/_book/python%EC%97%90%EC%84%9C-mysql%EB%8D%B0%EC%9D%B4%ED%84%B0%EC%9D%98-%EC%A0%91%EA%B7%BC.html\n",
    "\n",
    "import pymysql\n",
    "import pandas as pd\n",
    "import torch\n",
    "import torch.nn.functional as F\n",
    "import matplotlib.pyplot as plt"
   ]
  },
  {
   "cell_type": "code",
   "execution_count": 2,
   "metadata": {},
   "outputs": [
    {
     "data": {
      "text/html": [
       "<div>\n",
       "<style scoped>\n",
       "    .dataframe tbody tr th:only-of-type {\n",
       "        vertical-align: middle;\n",
       "    }\n",
       "\n",
       "    .dataframe tbody tr th {\n",
       "        vertical-align: top;\n",
       "    }\n",
       "\n",
       "    .dataframe thead th {\n",
       "        text-align: right;\n",
       "    }\n",
       "</style>\n",
       "<table border=\"1\" class=\"dataframe\">\n",
       "  <thead>\n",
       "    <tr style=\"text-align: right;\">\n",
       "      <th></th>\n",
       "      <th>0</th>\n",
       "      <th>1</th>\n",
       "      <th>2</th>\n",
       "      <th>3</th>\n",
       "      <th>4</th>\n",
       "      <th>5</th>\n",
       "      <th>6</th>\n",
       "      <th>7</th>\n",
       "      <th>8</th>\n",
       "    </tr>\n",
       "  </thead>\n",
       "  <tbody>\n",
       "    <tr>\n",
       "      <th>0</th>\n",
       "      <td>99</td>\n",
       "      <td>jongbin</td>\n",
       "      <td>1</td>\n",
       "      <td>묵채비빔밥</td>\n",
       "      <td>2022-11-11</td>\n",
       "      <td>5.0</td>\n",
       "      <td>0</td>\n",
       "      <td>맛있어요!</td>\n",
       "      <td>None</td>\n",
       "    </tr>\n",
       "    <tr>\n",
       "      <th>1</th>\n",
       "      <td>100</td>\n",
       "      <td>jongbin</td>\n",
       "      <td>2</td>\n",
       "      <td>파채부대덮밥</td>\n",
       "      <td>2022-11-11</td>\n",
       "      <td>4.0</td>\n",
       "      <td>0</td>\n",
       "      <td>맛있나요?</td>\n",
       "      <td>None</td>\n",
       "    </tr>\n",
       "  </tbody>\n",
       "</table>\n",
       "</div>"
      ],
      "text/plain": [
       "     0        1  2       3          4    5  6      7     8\n",
       "0   99  jongbin  1   묵채비빔밥 2022-11-11  5.0  0  맛있어요!  None\n",
       "1  100  jongbin  2  파채부대덮밥 2022-11-11  4.0  0  맛있나요?  None"
      ]
     },
     "execution_count": 2,
     "metadata": {},
     "output_type": "execute_result"
    }
   ],
   "source": [
    "con = pymysql.connect(host='localhost', user= 'kevinmj12', password='kookbop', db='kookbob', charset='utf8') # mysql connection 연결\n",
    "cur = con.cursor() # connection으로부터 cursor 생성\n",
    "\n",
    "sql = \"SELECT * FROM review\" \n",
    "cur.execute(sql) # sql문 실행\n",
    "\n",
    "rows = cur.fetchall()\n",
    "data = pd.DataFrame(rows)\n",
    "testData = pd.DataFrame(rows)\n",
    "data"
   ]
  },
  {
   "cell_type": "code",
   "execution_count": 3,
   "metadata": {},
   "outputs": [
    {
     "data": {
      "text/plain": [
       "tensor([1, 2])"
      ]
     },
     "execution_count": 3,
     "metadata": {},
     "output_type": "execute_result"
    }
   ],
   "source": [
    "menus = torch.LongTensor(data[2])\n",
    "users = torch.LongTensor(data[0]-98) # userId가 99, 100으로 되어 있어 98 뺌\n",
    "ratings = torch.FloatTensor(data[5])\n",
    "menusTest = torch.LongTensor(testData[2])\n",
    "usersTest = torch.LongTensor(testData[0]-98)\n",
    "ratingsTest = torch.FloatTensor(testData[5])\n",
    "users"
   ]
  },
  {
   "cell_type": "code",
   "execution_count": 4,
   "metadata": {},
   "outputs": [],
   "source": [
    "rank = 10 # Latent Vector의 개수\n",
    "numMenus = menus.max()+1 # index 해결을 위해 +1 처리, 실제 결과값의 0행 0열은 더미값이다.\n",
    "numUsers = users.max()+1\n",
    "mean = ratings.mean()"
   ]
  },
  {
   "cell_type": "code",
   "execution_count": 5,
   "metadata": {},
   "outputs": [
    {
     "name": "stdout",
     "output_type": "stream",
     "text": [
      "tensor(0.0667)\n",
      "tensor(0.1333)\n"
     ]
    },
    {
     "data": {
      "image/png": "[encoded data removed]",
      "text/plain": [
       "<Figure size 640x480 with 1 Axes>"
      ]
     },
     "metadata": {},
     "output_type": "display_data"
    }
   ],
   "source": [
    "lambda1 = 0.5\n",
    "lambda2 = 0.5\n",
    "lambda3 = 0.5\n",
    "lambda4 = 0.5\n",
    "isOptimumLambda = False # 최적의 Lambda값을 찾기 위한 부울\n",
    "\n",
    "X = []\n",
    "Y = []\n",
    "Y_test = [] # overfitting이 발생하는지 확인하기 위해 리스트에 값들 저장 후, pyplot을 통해 확인\n",
    "prevDifference = 10\n",
    "presentDifference = 0\n",
    "\n",
    "\n",
    "while True:\n",
    "  P = torch.randn(numMenus, rank, requires_grad=True) # menu Latent Factor 설정\n",
    "  Q = torch.randn(numUsers, rank, requires_grad=True) # user Latent Factor 설정\n",
    "  biasMenu = torch.randn(numMenus, requires_grad=True) # 정규화를 위한 menu Vector\n",
    "  biasUser = torch.randn(numUsers, requires_grad = True) # 정규화를 위한 user Vecotor \n",
    "  optim = torch.optim.Adam([P, Q, biasMenu, biasUser], lr = 0.1) # optim.Adam()을 사용하여 머신러닝 시작\n",
    "  X.clear()\n",
    "  Y.clear()\n",
    "  Y_test.clear()\n",
    "\n",
    "  for epoch in range(1000):\n",
    "    h = (P[menus] *Q[users]).sum(dim=1) + mean + biasMenu[menus] + biasUser[users] # 가설\n",
    "    cost = F.mse_loss(h, ratings) # 비용\n",
    "    loss = cost + lambda1*(P**2).mean() + lambda2*(Q**2).mean() + lambda3*(biasUser**2).mean() + lambda4*(biasMenu**2).mean() # 정규화\n",
    "\n",
    "    optim.zero_grad()\n",
    "    loss.backward()\n",
    "    optim.step()\n",
    "\n",
    "    X.append(epoch)\n",
    "    Y.append(cost.item())\n",
    "    with torch.no_grad():\n",
    "      h_test = (P[menusTest] * Q[usersTest]).sum(dim=1) + mean + biasMenu[menusTest] + biasUser[usersTest]\n",
    "      cost_test = F.mse_loss(h_test, ratingsTest)\n",
    "      Y_test.append(cost_test.item())\n",
    "    \n",
    "    # with torch.no_grad():\n",
    "      # if epoch % 100 == 0:\n",
    "        # print(f\"epoch: {epoch}, cost: {cost.item()}, cost_test: {cost_test.item()}\\n h:{h}\") # 비용과 가설의 학습 과정 확인 가능\n",
    "        \n",
    "  with torch.no_grad():\n",
    "    if isOptimumLambda: # 최적의 Lambda값을 찾았으므로 break\n",
    "      break\n",
    "    presentDifference = (abs(h - ratings)).sum() # 실제 rating과 학습 이후 나온 rating을 비교하여 그 차이를 저장 (작을수록 정확하다)\n",
    "    print(presentDifference)\n",
    "    if prevDifference - presentDifference > 0: # 현재 학습이 이전 학습보다 잘 됨. Lambda값을 증가하며 계속 학습 진행\n",
    "      lambda1 += 0.5\n",
    "      lambda2 += 0.5\n",
    "      lambda3 += 0.25\n",
    "      lambda4 += 0.25\n",
    "      prevDifference = presentDifference \n",
    "    else: # 현재 학습이 이전 학습보다 못 됨. 이전 학습했을 때의 Lambda값을 최적의 Lambda로 설정.\n",
    "      lambda1 -= 0.5\n",
    "      lambda2 -= 0.5\n",
    "      lambda3 -= 0.25\n",
    "      lambda4 -= 0.25\n",
    "      isOptimumLambda = True\n",
    "\n",
    "plt.xlabel(\"Epoch\")\n",
    "plt.ylabel(\"MSE\")\n",
    "plt.plot(X, Y, c=\"blue\", label = \"Training MSE\")\n",
    "plt.plot(X, Y_test, c=\"red\", label = \"Test MSE\")\n",
    "plt.legend()\n",
    "plt.show()"
   ]
  },
  {
   "cell_type": "code",
   "execution_count": 6,
   "metadata": {},
   "outputs": [
    {
     "name": "stdout",
     "output_type": "stream",
     "text": [
      "tensor([[4.9667, 4.5356],\n",
      "        [4.4644, 4.0333]], grad_fn=<SliceBackward0>)\n"
     ]
    },
    {
     "data": {
      "text/html": [
       "<div>\n",
       "<style scoped>\n",
       "    .dataframe tbody tr th:only-of-type {\n",
       "        vertical-align: middle;\n",
       "    }\n",
       "\n",
       "    .dataframe tbody tr th {\n",
       "        vertical-align: top;\n",
       "    }\n",
       "\n",
       "    .dataframe thead th {\n",
       "        text-align: right;\n",
       "    }\n",
       "</style>\n",
       "<table border=\"1\" class=\"dataframe\">\n",
       "  <thead>\n",
       "    <tr style=\"text-align: right;\">\n",
       "      <th></th>\n",
       "      <th>0</th>\n",
       "      <th>1</th>\n",
       "      <th>2</th>\n",
       "      <th>3</th>\n",
       "      <th>4</th>\n",
       "      <th>5</th>\n",
       "      <th>6</th>\n",
       "      <th>7</th>\n",
       "      <th>8</th>\n",
       "    </tr>\n",
       "  </thead>\n",
       "  <tbody>\n",
       "    <tr>\n",
       "      <th>0</th>\n",
       "      <td>99</td>\n",
       "      <td>jongbin</td>\n",
       "      <td>1</td>\n",
       "      <td>묵채비빔밥</td>\n",
       "      <td>2022-11-11</td>\n",
       "      <td>5.0</td>\n",
       "      <td>0</td>\n",
       "      <td>맛있어요!</td>\n",
       "      <td>None</td>\n",
       "    </tr>\n",
       "    <tr>\n",
       "      <th>1</th>\n",
       "      <td>100</td>\n",
       "      <td>jongbin</td>\n",
       "      <td>2</td>\n",
       "      <td>파채부대덮밥</td>\n",
       "      <td>2022-11-11</td>\n",
       "      <td>4.0</td>\n",
       "      <td>0</td>\n",
       "      <td>맛있나요?</td>\n",
       "      <td>None</td>\n",
       "    </tr>\n",
       "  </tbody>\n",
       "</table>\n",
       "</div>"
      ],
      "text/plain": [
       "     0        1  2       3          4    5  6      7     8\n",
       "0   99  jongbin  1   묵채비빔밥 2022-11-11  5.0  0  맛있어요!  None\n",
       "1  100  jongbin  2  파채부대덮밥 2022-11-11  4.0  0  맛있나요?  None"
      ]
     },
     "execution_count": 6,
     "metadata": {},
     "output_type": "execute_result"
    }
   ],
   "source": [
    "\n",
    "resultMatrix = torch.transpose(torch.mm(P,torch.transpose(Q,0,1))[1:]+mean+biasMenu+biasUser, 0, 1)[1:] # 0행 0열 제거(더미값)\n",
    "print(resultMatrix)\n",
    "data\n",
    "\n",
    "# tensor([[4.9667, 4.7307],\n",
    "#        [4.2693, 4.0333]], grad_fn=<SliceBackward0>) (예시값임)\n",
    "# 와 같이 나올텐데 행은 유저, 열은 메뉴로 99번유저의 묵채비빔밥은 4.9667점, 파채부대덮밥은 4.7307점\n",
    "# 100번 유저의 묵채비빔밥은 4.2693점, 파채부대덮밥은 4.0333점을 예측함."
   ]
  }
 ],
 "metadata": {
  "kernelspec": {
   "display_name": "Python 3.10.0 64-bit",
   "language": "python",
   "name": "python3"
  },
  "language_info": {
   "codemirror_mode": {
    "name": "ipython",
    "version": 3
   },
   "file_extension": ".py",
   "mimetype": "text/x-python",
   "name": "python",
   "nbconvert_exporter": "python",
   "pygments_lexer": "ipython3",
   "version": "3.10.0"
  },
  "orig_nbformat": 4,
  "vscode": {
   "interpreter": {
    "hash": "46e7cf45a2b008d8d5c6486b763ede21d458eecc457cab868044b3d3db1b20f5"
   }
  }
 },
 "nbformat": 4,
 "nbformat_minor": 2
}
