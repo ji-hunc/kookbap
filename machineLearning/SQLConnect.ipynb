{
 "cells": [
  {
   "cell_type": "code",
   "execution_count": 7,
   "metadata": {},
   "outputs": [
    {
     "ename": "ModuleNotFoundError",
     "evalue": "No module named 'pandas'",
     "output_type": "error",
     "traceback": [
      "\u001b[1;31m---------------------------------------------------------------------------\u001b[0m",
      "\u001b[1;31mModuleNotFoundError\u001b[0m                       Traceback (most recent call last)",
      "Cell \u001b[1;32mIn [7], line 2\u001b[0m\n\u001b[0;32m      1\u001b[0m \u001b[39mimport\u001b[39;00m \u001b[39mpymysql\u001b[39;00m\n\u001b[1;32m----> 2\u001b[0m \u001b[39mimport\u001b[39;00m \u001b[39mpandas\u001b[39;00m \u001b[39mas\u001b[39;00m \u001b[39mpd\u001b[39;00m\n\u001b[0;32m      4\u001b[0m con \u001b[39m=\u001b[39m pymysql\u001b[39m.\u001b[39mconnect(host\u001b[39m=\u001b[39m\u001b[39m'\u001b[39m\u001b[39mlocalhost\u001b[39m\u001b[39m'\u001b[39m, user\u001b[39m=\u001b[39m \u001b[39m'\u001b[39m\u001b[39mkevinmj12\u001b[39m\u001b[39m'\u001b[39m, password\u001b[39m=\u001b[39m\u001b[39m'\u001b[39m\u001b[39mkookbop\u001b[39m\u001b[39m'\u001b[39m, db\u001b[39m=\u001b[39m\u001b[39m'\u001b[39m\u001b[39mkookbob\u001b[39m\u001b[39m'\u001b[39m, charset\u001b[39m=\u001b[39m\u001b[39m'\u001b[39m\u001b[39mutf8\u001b[39m\u001b[39m'\u001b[39m)\n",
      "\u001b[1;31mModuleNotFoundError\u001b[0m: No module named 'pandas'"
     ]
    }
   ],
   "source": [
    "import pymysql\n",
    "import pandas as pd\n",
    "\n",
    "con = pymysql.connect(host='localhost', user= 'kevinmj12', password='kookbop', db='kookbob', charset='utf8')"
   ]
  },
  {
   "cell_type": "code",
   "execution_count": 5,
   "metadata": {},
   "outputs": [
    {
     "name": "stdout",
     "output_type": "stream",
     "text": [
      "((99, 'jongbin', 1, '묵채비빔밥', datetime.datetime(2022, 11, 11, 0, 0), 5.0, 0, '맛있어요!', None), (100, 'jongbin', 2, '파채부대덮밥', datetime.datetime(2022, 11, 11, 0, 0), 4.0, 0, '맛있나요?', None))\n"
     ]
    }
   ],
   "source": [
    "cur = con.cursor()\n",
    "\n",
    "sql = \"SELECT * FROM review\"\n",
    "cur.execute(sql)\n",
    "\n",
    "rows = cur.fetchall()\n",
    "print(rows)"
   ]
  }
 ],
 "metadata": {
  "kernelspec": {
   "display_name": "Python 3.10.0 64-bit",
   "language": "python",
   "name": "python3"
  },
  "language_info": {
   "codemirror_mode": {
    "name": "ipython",
    "version": 3
   },
   "file_extension": ".py",
   "mimetype": "text/x-python",
   "name": "python",
   "nbconvert_exporter": "python",
   "pygments_lexer": "ipython3",
   "version": "3.10.0"
  },
  "orig_nbformat": 4,
  "vscode": {
   "interpreter": {
    "hash": "46e7cf45a2b008d8d5c6486b763ede21d458eecc457cab868044b3d3db1b20f5"
   }
  }
 },
 "nbformat": 4,
 "nbformat_minor": 2
}
