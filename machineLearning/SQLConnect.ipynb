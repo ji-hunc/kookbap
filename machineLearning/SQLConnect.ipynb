{
 "cells": [
  {
   "cell_type": "code",
   "execution_count": 47,
   "metadata": {},
   "outputs": [],
   "source": [
    "# %pip install PyMySQL\n",
    "# %pip install pandas\n",
    "# %pip install cryptography\n",
    "# %pip install torch torchvision torchaudio\n",
    "\n",
    "# 터미널에서 mysql에 사용자 추가하는 법\n",
    "# mysql> CREATE user '사용자'@'localhost' IDENTIFIED BY '사용자_비밀번호';\n",
    "# mysql> GRANT ALL PRIVILEGES ON *.* to '사용자'@'localhost'; # 모든 DB에 접근 가능 *.*\n",
    "# mysql> FLUSH PRIVILEGES; # 새로운 세팅 적용\n",
    "# 참고:http://bigdata.dongguk.ac.kr/lectures/DB/_book/python%EC%97%90%EC%84%9C-mysql%EB%8D%B0%EC%9D%B4%ED%84%B0%EC%9D%98-%EC%A0%91%EA%B7%BC.html\n",
    "\n",
    "import pymysql\n",
    "import pandas as pd\n",
    "import torch\n",
    "import torch.nn.functional as F\n",
    "import matplotlib.pyplot as plt"
   ]
  },
  {
   "cell_type": "code",
   "execution_count": 48,
   "metadata": {},
   "outputs": [
    {
     "data": {
      "text/html": [
       "<div>\n",
       "<style scoped>\n",
       "    .dataframe tbody tr th:only-of-type {\n",
       "        vertical-align: middle;\n",
       "    }\n",
       "\n",
       "    .dataframe tbody tr th {\n",
       "        vertical-align: top;\n",
       "    }\n",
       "\n",
       "    .dataframe thead th {\n",
       "        text-align: right;\n",
       "    }\n",
       "</style>\n",
       "<table border=\"1\" class=\"dataframe\">\n",
       "  <thead>\n",
       "    <tr style=\"text-align: right;\">\n",
       "      <th></th>\n",
       "      <th>0</th>\n",
       "      <th>1</th>\n",
       "      <th>2</th>\n",
       "      <th>3</th>\n",
       "      <th>4</th>\n",
       "      <th>5</th>\n",
       "      <th>6</th>\n",
       "      <th>7</th>\n",
       "      <th>8</th>\n",
       "    </tr>\n",
       "  </thead>\n",
       "  <tbody>\n",
       "    <tr>\n",
       "      <th>0</th>\n",
       "      <td>99</td>\n",
       "      <td>jongbin</td>\n",
       "      <td>1</td>\n",
       "      <td>묵채비빔밥</td>\n",
       "      <td>2022-11-11</td>\n",
       "      <td>5.0</td>\n",
       "      <td>0</td>\n",
       "      <td>맛있어요!</td>\n",
       "      <td>None</td>\n",
       "    </tr>\n",
       "    <tr>\n",
       "      <th>1</th>\n",
       "      <td>100</td>\n",
       "      <td>jongbin</td>\n",
       "      <td>2</td>\n",
       "      <td>파채부대덮밥</td>\n",
       "      <td>2022-11-11</td>\n",
       "      <td>4.0</td>\n",
       "      <td>0</td>\n",
       "      <td>맛있나요?</td>\n",
       "      <td>None</td>\n",
       "    </tr>\n",
       "  </tbody>\n",
       "</table>\n",
       "</div>"
      ],
      "text/plain": [
       "     0        1  2       3          4    5  6      7     8\n",
       "0   99  jongbin  1   묵채비빔밥 2022-11-11  5.0  0  맛있어요!  None\n",
       "1  100  jongbin  2  파채부대덮밥 2022-11-11  4.0  0  맛있나요?  None"
      ]
     },
     "execution_count": 48,
     "metadata": {},
     "output_type": "execute_result"
    }
   ],
   "source": [
    "con = pymysql.connect(host='localhost', user= 'kevinmj12', password='kookbop', db='kookbop', charset='utf8') # mysql connection 연결\n",
    "cur = con.cursor() # connection으로부터 cursor 생성\n",
    "\n",
    "sql = \"SELECT * FROM review\" \n",
    "cur.execute(sql) # sql문 실행\n",
    "\n",
    "rows = cur.fetchall()\n",
    "data = pd.DataFrame(rows)\n",
    "testData = pd.DataFrame(rows)\n",
    "data"
   ]
  },
  {
   "cell_type": "code",
   "execution_count": 49,
   "metadata": {},
   "outputs": [
    {
     "data": {
      "text/plain": [
       "tensor([1, 2])"
      ]
     },
     "execution_count": 49,
     "metadata": {},
     "output_type": "execute_result"
    }
   ],
   "source": [
    "menus = torch.LongTensor(data[2])\n",
    "users = torch.LongTensor(data[0]-98) # userId가 99, 100으로 되어 있어 98 뺌\n",
    "ratings = torch.FloatTensor(data[5])\n",
    "menusTest = torch.LongTensor(testData[2])\n",
    "usersTest = torch.LongTensor(testData[0]-98)\n",
    "ratingsTest = torch.FloatTensor(testData[5])\n",
    "users"
   ]
  },
  {
   "cell_type": "code",
   "execution_count": 50,
   "metadata": {},
   "outputs": [],
   "source": [
    "rank = 10\n",
    "numMenus = menus.max()+1\n",
    "numUsers = users.max()+1 \n",
    "P = torch.randn(numMenus, rank, requires_grad=True)\n",
    "Q = torch.randn(numUsers, rank, requires_grad=True)\n",
    "biasMenu = torch.randn(numMenus, requires_grad=True)\n",
    "biasUser = torch.randn(numUsers, requires_grad = True)\n",
    "mean = ratings.mean()"
   ]
  },
  {
   "cell_type": "code",
   "execution_count": 51,
   "metadata": {},
   "outputs": [
    {
     "data": {
      "image/png": "[encoded data removed]",
      "text/plain": [
       "<Figure size 640x480 with 1 Axes>"
      ]
     },
     "metadata": {},
     "output_type": "display_data"
    }
   ],
   "source": [
    "optim = torch.optim.Adam([P, Q, biasMenu, biasUser], lr = 0.1)\n",
    "\n",
    "lambda1 = 0.5\n",
    "lambda2 = 0.5\n",
    "lambda3 = 0.5\n",
    "lambda4 = 0.5\n",
    "\n",
    "\n",
    "X = []\n",
    "Y = []\n",
    "Y_test = []\n",
    "\n",
    "for epoch in range(1000):\n",
    "  h = (P[menus] *Q[users]).sum(dim=1) + mean + biasMenu[menus] + biasUser[users]\n",
    "  cost = F.mse_loss(h, ratings)\n",
    "  loss = cost + lambda1*(P**2).mean() + lambda2*(Q**2).mean() \\\n",
    "  + lambda3*(biasUser**2).mean() + lambda4*(biasMenu**2).mean()\n",
    "\n",
    "  optim.zero_grad()\n",
    "  loss.backward()\n",
    "  optim.step()\n",
    "\n",
    "  X.append(epoch)\n",
    "  Y.append(cost.item())\n",
    "  with torch.no_grad():\n",
    "    h_test = (P[menusTest] * Q[usersTest]).sum(dim=1) + mean + biasMenu[menusTest] + biasUser[usersTest]\n",
    "    cost_test = F.mse_loss(h_test, ratingsTest);\n",
    "    Y_test.append(cost_test.item())\n",
    "  \n",
    "  # with torch.no_grad():\n",
    "    # if epoch % 100 == 0:\n",
    "      # print(f\"epoch: {epoch}, cost: {cost.item()}, cost_test: {cost_test.item()}\\n h:{h}\")\n",
    "\n",
    "plt.xlabel(\"Epoch\")\n",
    "plt.ylabel(\"MSE\")\n",
    "plt.plot(X, Y, c=\"blue\", label = \"Training MSE\")\n",
    "plt.plot(X, Y_test, c=\"red\", label = \"Test MSE\")\n",
    "plt.legend()\n",
    "plt.show()"
   ]
  },
  {
   "cell_type": "code",
   "execution_count": 52,
   "metadata": {},
   "outputs": [
    {
     "name": "stdout",
     "output_type": "stream",
     "text": [
      "tensor([[4.9667, 4.7307],\n",
      "        [4.2693, 4.0333]], grad_fn=<SliceBackward0>)\n"
     ]
    },
    {
     "data": {
      "text/html": [
       "<div>\n",
       "<style scoped>\n",
       "    .dataframe tbody tr th:only-of-type {\n",
       "        vertical-align: middle;\n",
       "    }\n",
       "\n",
       "    .dataframe tbody tr th {\n",
       "        vertical-align: top;\n",
       "    }\n",
       "\n",
       "    .dataframe thead th {\n",
       "        text-align: right;\n",
       "    }\n",
       "</style>\n",
       "<table border=\"1\" class=\"dataframe\">\n",
       "  <thead>\n",
       "    <tr style=\"text-align: right;\">\n",
       "      <th></th>\n",
       "      <th>0</th>\n",
       "      <th>1</th>\n",
       "      <th>2</th>\n",
       "      <th>3</th>\n",
       "      <th>4</th>\n",
       "      <th>5</th>\n",
       "      <th>6</th>\n",
       "      <th>7</th>\n",
       "      <th>8</th>\n",
       "    </tr>\n",
       "  </thead>\n",
       "  <tbody>\n",
       "    <tr>\n",
       "      <th>0</th>\n",
       "      <td>99</td>\n",
       "      <td>jongbin</td>\n",
       "      <td>1</td>\n",
       "      <td>묵채비빔밥</td>\n",
       "      <td>2022-11-11</td>\n",
       "      <td>5.0</td>\n",
       "      <td>0</td>\n",
       "      <td>맛있어요!</td>\n",
       "      <td>None</td>\n",
       "    </tr>\n",
       "    <tr>\n",
       "      <th>1</th>\n",
       "      <td>100</td>\n",
       "      <td>jongbin</td>\n",
       "      <td>2</td>\n",
       "      <td>파채부대덮밥</td>\n",
       "      <td>2022-11-11</td>\n",
       "      <td>4.0</td>\n",
       "      <td>0</td>\n",
       "      <td>맛있나요?</td>\n",
       "      <td>None</td>\n",
       "    </tr>\n",
       "  </tbody>\n",
       "</table>\n",
       "</div>"
      ],
      "text/plain": [
       "     0        1  2       3          4    5  6      7     8\n",
       "0   99  jongbin  1   묵채비빔밥 2022-11-11  5.0  0  맛있어요!  None\n",
       "1  100  jongbin  2  파채부대덮밥 2022-11-11  4.0  0  맛있나요?  None"
      ]
     },
     "execution_count": 52,
     "metadata": {},
     "output_type": "execute_result"
    }
   ],
   "source": [
    "\n",
    "resultMatrix = torch.transpose(torch.mm(P,torch.transpose(Q,0,1))[1:]+mean+biasMenu+biasUser, 0, 1)[1:]\n",
    "\n",
    "print(resultMatrix)\n",
    "data\n",
    "\n",
    "# tensor([[4.9667, 4.7307],\n",
    "#        [4.2693, 4.0333]], grad_fn=<SliceBackward0>)\n",
    "# 와 같이 나올텐데 행은 유저, 열은 메뉴로 99번유저의 묵채비빔밥은 4.9667점, 파채부대덮밥은 4.7307점\n",
    "# 100번 유저의 묵채비빔밥은 4.2693점, 파채부대덮밥은 4.0333점을 예측함."
   ]
  }
 ],
 "metadata": {
  "kernelspec": {
   "display_name": "Python 3.9.13 64-bit (microsoft store)",
   "language": "python",
   "name": "python3"
  },
  "language_info": {
   "codemirror_mode": {
    "name": "ipython",
    "version": 3
   },
   "file_extension": ".py",
   "mimetype": "text/x-python",
   "name": "python",
   "nbconvert_exporter": "python",
   "pygments_lexer": "ipython3",
   "version": "3.9.13"
  },
  "orig_nbformat": 4,
  "vscode": {
   "interpreter": {
    "hash": "5eead1395b944e4b0573b13d579d798f88ef3a3c7451faa7596b067b34cd748a"
   }
  }
 },
 "nbformat": 4,
 "nbformat_minor": 2
}
